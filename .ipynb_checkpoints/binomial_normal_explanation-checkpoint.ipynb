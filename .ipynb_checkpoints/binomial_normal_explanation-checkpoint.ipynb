{
 "cells": [
  {
   "cell_type": "markdown",
   "id": "b44f7dd0-cd64-469e-b68d-01f6eae9820c",
   "metadata": {},
   "source": [
    "\n",
    "The Cenral Limit Theorem states that as the average of independent random variables approaches a normal distribution regardless of the original distribution. As Binomial distributions are defined by n and p, the distribution of the mean will become bell-shaped and symmetric around the new mean (mu = N*p) as n -> N. \n",
    "\n",
    "The two pngs of the Normal and Binomial distribution look very similar when I increased the n and sample sizes. Whereas, when you look at the distributions for lower values of n, the same is not true. Only when N -> a very large number, do we see that the binomial distribution approximates a normal distribution."
   ]
  }
 ],
 "metadata": {
  "kernelspec": {
   "display_name": "Python 3 (ipykernel)",
   "language": "python",
   "name": "python3"
  },
  "language_info": {
   "codemirror_mode": {
    "name": "ipython",
    "version": 3
   },
   "file_extension": ".py",
   "mimetype": "text/x-python",
   "name": "python",
   "nbconvert_exporter": "python",
   "pygments_lexer": "ipython3",
   "version": "3.12.3"
  }
 },
 "nbformat": 4,
 "nbformat_minor": 5
}
