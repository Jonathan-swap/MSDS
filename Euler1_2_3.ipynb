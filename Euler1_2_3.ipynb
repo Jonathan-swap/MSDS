{
 "cells": [
  {
   "cell_type": "code",
   "execution_count": 10,
   "id": "ae019bf6-0290-4fd3-990f-5cb4ab11aa74",
   "metadata": {},
   "outputs": [
    {
     "name": "stdout",
     "output_type": "stream",
     "text": [
      "233168\n"
     ]
    }
   ],
   "source": [
    "#problem 1\n",
    "numbers = []\n",
    "for i in range(0,1000):\n",
    "    if i % 3 == 0 or i % 5 == 0:\n",
    "        numbers.append(i)\n",
    "print(sum(numbers))\n",
    "#233168"
   ]
  },
  {
   "cell_type": "code",
   "execution_count": 11,
   "id": "7bfa98e5-4690-4757-b9aa-638debb385f2",
   "metadata": {},
   "outputs": [
    {
     "name": "stdout",
     "output_type": "stream",
     "text": [
      "1 2 3 5 8 13 21 34 55 89 144 233 377 610 987 1597 2584 4181 6765 10946 17711 28657 46368 75025 121393 196418 317811 514229 832040 1346269 2178309 3524578 4613732\n"
     ]
    }
   ],
   "source": [
    "#problem 2\n",
    "n = 4000000\n",
    "num1 = 0 \n",
    "num2 = 1\n",
    "next_num = num2\n",
    "array = [0]\n",
    "\n",
    "while next_num <= n:\n",
    "    print(next_num, end = \" \")\n",
    "    num1 = num2\n",
    "    num2 = next_num\n",
    "    next_num = num1 + num2\n",
    "    if next_num % 2 == 0:\n",
    "        array.append(next_num)\n",
    "print(sum(array))\n",
    "#4613732"
   ]
  },
  {
   "cell_type": "code",
   "execution_count": 12,
   "id": "4030b559-f26d-44e4-bd91-acc133e839d4",
   "metadata": {},
   "outputs": [
    {
     "name": "stdout",
     "output_type": "stream",
     "text": [
      "6857\n"
     ]
    }
   ],
   "source": [
    "#problem 3\n",
    "import sympy\n",
    "n = 600851475143\n",
    "factor = 2\n",
    "while n>1:\n",
    "    if n % factor ==0:\n",
    "        n /= factor\n",
    "    else:\n",
    "        factor = sympy.nextprime(factor)\n",
    "print(factor)\n",
    "#6857"
   ]
  }
 ],
 "metadata": {
  "kernelspec": {
   "display_name": "Python 3 (ipykernel)",
   "language": "python",
   "name": "python3"
  },
  "language_info": {
   "codemirror_mode": {
    "name": "ipython",
    "version": 3
   },
   "file_extension": ".py",
   "mimetype": "text/x-python",
   "name": "python",
   "nbconvert_exporter": "python",
   "pygments_lexer": "ipython3",
   "version": "3.12.3"
  }
 },
 "nbformat": 4,
 "nbformat_minor": 5
}
